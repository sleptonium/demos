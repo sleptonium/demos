{
  "nbformat": 4,
  "nbformat_minor": 0,
  "metadata": {
    "colab": {
      "name": "BS.ipynb",
      "provenance": [],
      "collapsed_sections": [],
      "authorship_tag": "ABX9TyOiOY/cmz8OgJEUJKHrVqIx",
      "include_colab_link": true
    },
    "kernelspec": {
      "name": "python3",
      "display_name": "Python 3"
    },
    "accelerator": "GPU"
  },
  "cells": [
    {
      "cell_type": "markdown",
      "metadata": {
        "id": "view-in-github",
        "colab_type": "text"
      },
      "source": [
        "<a href=\"https://colab.research.google.com/github/sleptonium/demos/blob/main/BS.ipynb\" target=\"_parent\"><img src=\"https://colab.research.google.com/assets/colab-badge.svg\" alt=\"Open In Colab\"/></a>"
      ]
    },
    {
      "cell_type": "markdown",
      "metadata": {
        "id": "r14VjLcOHmmX"
      },
      "source": [
        "# Tour of Tensorflow with a Black Scholes pricing example\n",
        "\n"
      ]
    },
    {
      "cell_type": "markdown",
      "metadata": {
        "id": "SQ3SIo4pSOMd"
      },
      "source": [
        "\n",
        "Demonstrating the baskic TensorFlow concepts using the [Black Scholes](https://en.wikipedia.org/wiki/Black%E2%80%93Scholes_model) pricing model as an example. \n",
        "\n",
        "What we'll cover. \n",
        "* Highlights of the BS Model\n",
        "* Tensors\n",
        "* Eager Mode vs the TensorFlow Graph\n",
        "* A more complex model\n",
        "  * Gaussian Copula model\n",
        "  * Swap Pricing\n",
        "* Devices & Performance\n",
        "  * CPU - The machines Central Processing Unit. \n",
        "  * GPU - Graphical Processing Units\n",
        "  * TPU - Custom Tensor Processing Units\n",
        "  * QPU? - The Quantum Era?\n",
        "* AAD Automatic Algebraic Differentiation\n",
        "  * Concepts\n",
        "  * Tape\n",
        "  * Higher Order Differentiation. \n",
        "* Very Large Graphs\n",
        "  * DIY\n",
        "  * Managed Servcies\n",
        "* KubeFlow, DataFlow, TFX\n",
        "* Models\n",
        "  * Keras and ML \n",
        "  * TensorFlow probability\n",
        "  * Quant Finance in TF. \n",
        "* Advanced thoughts. \n",
        "  * TFX\n",
        "  * XLA\n"
      ]
    },
    {
      "cell_type": "markdown",
      "metadata": {
        "id": "T61H-S62Vu-W"
      },
      "source": [
        "The Black Scholes model is a key algorithm in Finance for procing derivatives. \n",
        "\n",
        "Take a call option with:\n",
        "\n",
        "* Strike price K\n",
        "* $\\Delta t$ years until maturity. \n",
        "\n",
        "The payoff at maturity of this optiion is $ (S_T-K) $ where \n",
        "\n",
        "* $ S_T $ is the spot price of the underlying at maturity. \n",
        "\n",
        "Pricing this derivative at $ t=0 $ we can use the Black Scholes formula with following:\n",
        "\n",
        "* $\\sigma$ = volatility of the underlying \n",
        "\n",
        "* $S_0$  = Underlying price at t=0\n",
        "\n",
        "\n",
        "$$\n",
        "NPV = \\Phi(d_1) S - \\Phi(d_2)e^{-r \\Delta t}K\n",
        "$$\n",
        "\n",
        "where\n",
        "\n",
        "$ \\Phi(x) $ = cumulative normal density function CDF. \n",
        "\n",
        "and\n",
        "\n",
        "$$ \n",
        "d1 = \\frac{ln( \\frac SK )+ ({r+\\frac{\\sigma^2}{2} )}\\Delta t }{\\sigma \\sqrt(\\Delta t)}\n",
        "$$\n",
        "\n",
        "$$\n",
        "d_2 = d_1 - \\sigma \\sqrt{\\Delta t}\n",
        "$$\n",
        "\n"
      ]
    },
    {
      "cell_type": "code",
      "metadata": {
        "id": "XL76EP9Rmirw"
      },
      "source": [
        "import tensorflow as tf\n",
        "import time \n",
        "import pandas as pd\n",
        "\n",
        "SQRT_2 = 1.4142135623730952\n",
        "\n",
        "@tf.function\n",
        "def normal_cdf(x: tf.Tensor) -> tf.Tensor:\n",
        "  \"\"\" Computes the CDF for the unit notmal distribution \"\"\"\n",
        "  x = tf.convert_to_tensor(x)\n",
        "  return 0.5 + tf.math.erf(x/SQRT_2)/2"
      ],
      "execution_count": 1,
      "outputs": []
    },
    {
      "cell_type": "code",
      "metadata": {
        "id": "w74sLH9wc0-i"
      },
      "source": [
        "\n",
        "                        \n",
        "@tf.function\n",
        "def BS_Call(S, K, dt, vol, r):\n",
        "    \"\"\"Prices call option.\n",
        " \n",
        "    Parameters\n",
        "    ----------\n",
        "    S   : float       Spot price at T0.\n",
        "    K   : float       Strike price.\n",
        "    dt  : float       Time to maturity.\n",
        "    vol : float       Volatility.\n",
        "    r   : float       Risk free rate.\n",
        " \n",
        "    Returns\n",
        "    -------\n",
        "    npv : float                Net present value.\n",
        "    \"\"\"\n",
        "    dt_sqrt = tf.sqrt(dt)\n",
        "    phi = normal_cdf\n",
        "  \n",
        "    d1 = (tf.math.log(S / K) + (r + vol ** 2 / 2) * dt) / (vol * dt_sqrt)\n",
        "    d2 = d1 - vol * dt_sqrt\n",
        "    npv =  S * phi(d1) - K * tf.exp(-r * dt) * phi(d2)\n",
        "    return npv\n",
        "\n"
      ],
      "execution_count": 98,
      "outputs": []
    },
    {
      "cell_type": "code",
      "metadata": {
        "colab": {
          "base_uri": "https://localhost:8080/"
        },
        "id": "DqSfbuY9dH9A",
        "outputId": "7d292cde-221b-4d31-d567-437c0244b3a8"
      },
      "source": [
        "S    = tf.constant(5.,   dtype = tf.float32)\n",
        "vol  = tf.constant(0.2,  dtype = tf.float32)\n",
        "r    = tf.constant(0.01, dtype = tf.float32)\n",
        "K    = tf.constant(5.5,  dtype = tf.float32)\n",
        "dt   = tf.constant(0.5,  dtype = tf.float32)\n",
        "\n",
        "npv = BS_Call(S, K, dt, vol, r)\n",
        "npv.numpy()"
      ],
      "execution_count": 4,
      "outputs": [
        {
          "output_type": "execute_result",
          "data": {
            "text/plain": [
              "0.116971254"
            ]
          },
          "metadata": {
            "tags": []
          },
          "execution_count": 4
        }
      ]
    },
    {
      "cell_type": "code",
      "metadata": {
        "colab": {
          "base_uri": "https://localhost:8080/"
        },
        "id": "vg9jokpZm63y",
        "outputId": "875cc88e-3507-438c-e4e8-e60846e667e9"
      },
      "source": [
        "S"
      ],
      "execution_count": 7,
      "outputs": [
        {
          "output_type": "execute_result",
          "data": {
            "text/plain": [
              "<tf.Tensor: shape=(), dtype=float32, numpy=5.0>"
            ]
          },
          "metadata": {
            "tags": []
          },
          "execution_count": 7
        }
      ]
    },
    {
      "cell_type": "code",
      "metadata": {
        "colab": {
          "base_uri": "https://localhost:8080/"
        },
        "id": "Sb4p9rt0nDet",
        "outputId": "de8be1cb-bf32-4ea9-b93a-970a1de24fa9"
      },
      "source": [
        "S = tf.range(0,10., 1, dtype=tf.float32)\n",
        "S"
      ],
      "execution_count": 14,
      "outputs": [
        {
          "output_type": "execute_result",
          "data": {
            "text/plain": [
              "<tf.Tensor: shape=(10,), dtype=float32, numpy=array([0., 1., 2., 3., 4., 5., 6., 7., 8., 9.], dtype=float32)>"
            ]
          },
          "metadata": {
            "tags": []
          },
          "execution_count": 14
        }
      ]
    },
    {
      "cell_type": "code",
      "metadata": {
        "colab": {
          "base_uri": "https://localhost:8080/"
        },
        "id": "yHHlMBHtd1Sn",
        "outputId": "cdaeeb24-6d2e-4647-8fe0-bb6bde7bff02"
      },
      "source": [
        ""
      ],
      "execution_count": 13,
      "outputs": [
        {
          "output_type": "execute_result",
          "data": {
            "text/plain": [
              "TensorShape([10])"
            ]
          },
          "metadata": {
            "tags": []
          },
          "execution_count": 13
        }
      ]
    },
    {
      "cell_type": "code",
      "metadata": {
        "colab": {
          "base_uri": "https://localhost:8080/"
        },
        "id": "BBxVGaXSnfUz",
        "outputId": "f9e6e76e-c09d-4ef9-876b-888a27ee75a3"
      },
      "source": [
        "npv = BS_Call(S, K, dt, vol, r)\n",
        "npv"
      ],
      "execution_count": 16,
      "outputs": [
        {
          "output_type": "execute_result",
          "data": {
            "text/plain": [
              "<tf.Tensor: shape=(10,), dtype=float32, numpy=\n",
              "array([0.00000000e+00, 0.00000000e+00, 0.00000000e+00, 1.31524575e-06,\n",
              "       3.07909772e-03, 1.16971135e-01, 6.53038502e-01, 1.54189348e+00,\n",
              "       2.52847290e+00, 3.52748585e+00], dtype=float32)>"
            ]
          },
          "metadata": {
            "tags": []
          },
          "execution_count": 16
        }
      ]
    },
    {
      "cell_type": "code",
      "metadata": {
        "id": "KhmXx0kppUxN"
      },
      "source": [
        ""
      ],
      "execution_count": 7,
      "outputs": []
    },
    {
      "cell_type": "code",
      "metadata": {
        "colab": {
          "base_uri": "https://localhost:8080/",
          "height": 281
        },
        "id": "NeiN48UonoGJ",
        "outputId": "eaca3aa8-e6f9-486a-df9f-23b5ffe965ad"
      },
      "source": [
        "S = tf.range(0,10., 1, dtype=tf.float32)\n",
        "npv = BS_Call(S, K, dt, vol, r)\n",
        "import pandas as pd\n",
        "price = pd.DataFrame(data=npv.numpy() , columns=['npv'])\n",
        "price.plot()"
      ],
      "execution_count": 18,
      "outputs": [
        {
          "output_type": "execute_result",
          "data": {
            "text/plain": [
              "<matplotlib.axes._subplots.AxesSubplot at 0x7fa810260588>"
            ]
          },
          "metadata": {
            "tags": []
          },
          "execution_count": 18
        },
        {
          "output_type": "display_data",
          "data": {
            "image/png": "[encoded data removed]",
            "text/plain": [
              "<Figure size 432x288 with 1 Axes>"
            ]
          },
          "metadata": {
            "tags": [],
            "needs_background": "light"
          }
        }
      ]
    },
    {
      "cell_type": "code",
      "metadata": {
        "colab": {
          "base_uri": "https://localhost:8080/",
          "height": 335
        },
        "id": "FLW1aFlHqvJC",
        "outputId": "f360e23b-1782-4d0a-f29b-e45f37fe845f"
      },
      "source": [
        "price"
      ],
      "execution_count": 19,
      "outputs": [
        {
          "output_type": "execute_result",
          "data": {
            "text/html": [
              "<div>\n",
              "<style scoped>\n",
              "    .dataframe tbody tr th:only-of-type {\n",
              "        vertical-align: middle;\n",
              "    }\n",
              "\n",
              "    .dataframe tbody tr th {\n",
              "        vertical-align: top;\n",
              "    }\n",
              "\n",
              "    .dataframe thead th {\n",
              "        text-align: right;\n",
              "    }\n",
              "</style>\n",
              "<table border=\"1\" class=\"dataframe\">\n",
              "  <thead>\n",
              "    <tr style=\"text-align: right;\">\n",
              "      <th></th>\n",
              "      <th>npv</th>\n",
              "    </tr>\n",
              "  </thead>\n",
              "  <tbody>\n",
              "    <tr>\n",
              "      <th>0</th>\n",
              "      <td>0.000000</td>\n",
              "    </tr>\n",
              "    <tr>\n",
              "      <th>1</th>\n",
              "      <td>0.000000</td>\n",
              "    </tr>\n",
              "    <tr>\n",
              "      <th>2</th>\n",
              "      <td>0.000000</td>\n",
              "    </tr>\n",
              "    <tr>\n",
              "      <th>3</th>\n",
              "      <td>0.000001</td>\n",
              "    </tr>\n",
              "    <tr>\n",
              "      <th>4</th>\n",
              "      <td>0.003079</td>\n",
              "    </tr>\n",
              "    <tr>\n",
              "      <th>5</th>\n",
              "      <td>0.116971</td>\n",
              "    </tr>\n",
              "    <tr>\n",
              "      <th>6</th>\n",
              "      <td>0.653039</td>\n",
              "    </tr>\n",
              "    <tr>\n",
              "      <th>7</th>\n",
              "      <td>1.541893</td>\n",
              "    </tr>\n",
              "    <tr>\n",
              "      <th>8</th>\n",
              "      <td>2.528473</td>\n",
              "    </tr>\n",
              "    <tr>\n",
              "      <th>9</th>\n",
              "      <td>3.527486</td>\n",
              "    </tr>\n",
              "  </tbody>\n",
              "</table>\n",
              "</div>"
            ],
            "text/plain": [
              "        npv\n",
              "0  0.000000\n",
              "1  0.000000\n",
              "2  0.000000\n",
              "3  0.000001\n",
              "4  0.003079\n",
              "5  0.116971\n",
              "6  0.653039\n",
              "7  1.541893\n",
              "8  2.528473\n",
              "9  3.527486"
            ]
          },
          "metadata": {
            "tags": []
          },
          "execution_count": 19
        }
      ]
    },
    {
      "cell_type": "code",
      "metadata": {
        "id": "tw6EILXjolID"
      },
      "source": [
        ""
      ],
      "execution_count": 85,
      "outputs": []
    },
    {
      "cell_type": "code",
      "metadata": {
        "colab": {
          "base_uri": "https://localhost:8080/"
        },
        "id": "H3IEr-2Oqr3g",
        "outputId": "f4ebd62c-9f65-43bb-ba4b-f0dbaefca17f"
      },
      "source": [
        "dt = tf.range(0,10., 1, dtype=tf.float32)\n",
        "dt = tf.expand_dims(dt, axis=-1)\n",
        "dt"
      ],
      "execution_count": 23,
      "outputs": [
        {
          "output_type": "execute_result",
          "data": {
            "text/plain": [
              "<tf.Tensor: shape=(10, 1), dtype=float32, numpy=\n",
              "array([[0.],\n",
              "       [1.],\n",
              "       [2.],\n",
              "       [3.],\n",
              "       [4.],\n",
              "       [5.],\n",
              "       [6.],\n",
              "       [7.],\n",
              "       [8.],\n",
              "       [9.]], dtype=float32)>"
            ]
          },
          "metadata": {
            "tags": []
          },
          "execution_count": 23
        }
      ]
    },
    {
      "cell_type": "code",
      "metadata": {
        "colab": {
          "base_uri": "https://localhost:8080/"
        },
        "id": "7brGc-p2q9H-",
        "outputId": "97f6007f-9385-48e4-88c1-d2d7f210491f"
      },
      "source": [
        "npv = BS_Call(S, K, dt, vol, r)\n",
        "npv"
      ],
      "execution_count": 22,
      "outputs": [
        {
          "output_type": "execute_result",
          "data": {
            "text/plain": [
              "<tf.Tensor: shape=(10, 10), dtype=float32, numpy=\n",
              "array([[0.0000000e+00, 0.0000000e+00, 0.0000000e+00, 0.0000000e+00,\n",
              "        0.0000000e+00, 0.0000000e+00, 5.0000000e-01, 1.5000000e+00,\n",
              "        2.5000000e+00, 3.5000000e+00],\n",
              "       [0.0000000e+00, 0.0000000e+00, 8.2660620e-08, 3.2920437e-04,\n",
              "        2.4734586e-02, 2.3050570e-01, 7.8557539e-01, 1.6162248e+00,\n",
              "        2.5683990e+00, 3.5574145e+00],\n",
              "       [0.0000000e+00, 0.0000000e+00, 5.2565709e-05, 7.8771710e-03,\n",
              "        9.7771049e-02, 4.0920198e-01, 9.8994184e-01, 1.7750387e+00,\n",
              "        2.6772194e+00, 3.6359949e+00],\n",
              "       [0.0000000e+00, 1.4790749e-07, 7.5921463e-04, 2.7407810e-02,\n",
              "        1.7994559e-01, 5.5448878e-01, 1.1543310e+00, 1.9226029e+00,\n",
              "        2.7966890e+00, 3.7308536e+00],\n",
              "       [0.0000000e+00, 3.1763957e-06, 3.1873211e-03, 5.5658162e-02,\n",
              "        2.6151776e-01, 6.8063748e-01, 1.2962689e+00, 2.0576584e+00,\n",
              "        2.9150281e+00, 3.8315210e+00],\n",
              "       [0.0000000e+00, 2.5866422e-05, 7.9757012e-03, 8.9305818e-02,\n",
              "        3.4031153e-01, 7.9387081e-01, 1.4231915e+00, 2.1822481e+00,\n",
              "        3.0292082e+00, 3.9330497e+00],\n",
              "       [0.0000000e+00, 1.1101365e-04, 1.5238427e-02, 1.2617332e-01,\n",
              "        4.1589904e-01, 8.9756060e-01, 1.5390816e+00, 2.2982123e+00,\n",
              "        3.1385701e+00, 4.0332527e+00],\n",
              "       [0.0000000e+00, 3.2285042e-04, 2.4802186e-02, 1.6490120e-01,\n",
              "        4.8833990e-01, 9.9378550e-01, 1.6463759e+00, 2.4069653e+00,\n",
              "        3.2431767e+00, 4.1311722e+00],\n",
              "       [0.0000000e+00, 7.3406147e-04, 3.6383852e-02, 2.0463473e-01,\n",
              "        5.5783296e-01, 1.0839329e+00, 1.7466953e+00, 2.5095825e+00,\n",
              "        3.3433068e+00, 4.2264080e+00],\n",
              "       [0.0000000e+00, 1.4126324e-03, 4.9681291e-02, 2.4482220e-01,\n",
              "        6.2460482e-01, 1.1689875e+00, 1.8411856e+00, 2.6068945e+00,\n",
              "        3.4392967e+00, 4.3188362e+00]], dtype=float32)>"
            ]
          },
          "metadata": {
            "tags": []
          },
          "execution_count": 22
        }
      ]
    },
    {
      "cell_type": "code",
      "metadata": {
        "colab": {
          "base_uri": "https://localhost:8080/"
        },
        "id": "NIacdNVerd0B",
        "outputId": "1da27982-f83e-4df4-e935-d317e6d3cf3c"
      },
      "source": [
        "# A 10x10 grid doesn't look very clear in a plot. \n",
        "# Create a 100x100 grid for the visuals. \n",
        "dt = tf.range(0,10., 0.1, dtype=tf.float32)\n",
        "dt = tf.expand_dims(dt, axis=-1)\n",
        "S = tf.range(0,10., 0.1, dtype=tf.float32)\n",
        "npv = BS_Call(S, K, dt, vol, r)\n",
        "npv"
      ],
      "execution_count": 25,
      "outputs": [
        {
          "output_type": "execute_result",
          "data": {
            "text/plain": [
              "<tf.Tensor: shape=(100, 100), dtype=float32, numpy=\n",
              "array([[ 0.0000000e+00,  0.0000000e+00,  0.0000000e+00, ...,\n",
              "         4.2000008e+00,  4.3000011e+00,  4.4000015e+00],\n",
              "       [ 0.0000000e+00,  0.0000000e+00,  0.0000000e+00, ...,\n",
              "         4.2054982e+00,  4.3054986e+00,  4.4054990e+00],\n",
              "       [ 0.0000000e+00,  0.0000000e+00,  0.0000000e+00, ...,\n",
              "         4.2109900e+00,  4.3109903e+00,  4.4109907e+00],\n",
              "       ...,\n",
              "       [ 0.0000000e+00,  0.0000000e+00, -2.9550733e-08, ...,\n",
              "         5.0162230e+00,  5.1079407e+00,  5.1999054e+00],\n",
              "       [ 0.0000000e+00,  0.0000000e+00, -5.5601674e-09, ...,\n",
              "         5.0248890e+00,  5.1165709e+00,  5.2084999e+00],\n",
              "       [ 0.0000000e+00,  0.0000000e+00,  1.2469755e-08, ...,\n",
              "         5.0335312e+00,  5.1251798e+00,  5.2170744e+00]], dtype=float32)>"
            ]
          },
          "metadata": {
            "tags": []
          },
          "execution_count": 25
        }
      ]
    },
    {
      "cell_type": "code",
      "metadata": {
        "colab": {
          "base_uri": "https://localhost:8080/",
          "height": 318
        },
        "id": "Ef1W-pnl0Tka",
        "outputId": "bae07df5-b546-4926-f8b3-a504ffeeb706"
      },
      "source": [
        "\n",
        "import numpy as np\n",
        "import matplotlib.pyplot as plt\n",
        "from matplotlib import cm\n",
        "from matplotlib.ticker import LinearLocator, FormatStrFormatter\n",
        "from mpl_toolkits.mplot3d import Axes3D\n",
        "\n",
        "\n",
        "fig = plt.figure()\n",
        "ax = Axes3D(fig)\n",
        "surf = ax.plot_surface(dt.numpy(), S.numpy(), npv.numpy(), rstride=5, cstride=3, cmap=cm.coolwarm,\n",
        "                       linewidth=0, antialiased=False)\n",
        "\n",
        "\n",
        "fig.colorbar(surf, shrink=0.1, aspect=20)\n",
        "plt.title('NPV  Call option Vol=0.2, Strike=5.5')\n",
        "plt.ylabel(\"Spot S\")\n",
        "plt.xlabel(\"maturity (y)\")\n",
        "\n",
        "plt.show()"
      ],
      "execution_count": 26,
      "outputs": [
        {
          "output_type": "display_data",
          "data": {
            "image/png": "[encoded data removed]",
            "text/plain": [
              "<Figure size 432x288 with 2 Axes>"
            ]
          },
          "metadata": {
            "tags": [],
            "needs_background": "light"
          }
        }
      ]
    },
    {
      "cell_type": "code",
      "metadata": {
        "id": "uKWKtYrbLtVW"
      },
      "source": [
        "with tf.GradientTape() as g1:\n",
        "    npv = BS_Call(S, K, dt, vol, r)\n",
        "dv = g1.gradient(npv, S)  # first order derivatives"
      ],
      "execution_count": 32,
      "outputs": []
    },
    {
      "cell_type": "code",
      "metadata": {
        "id": "jw7uJswiLtl2"
      },
      "source": [
        ""
      ],
      "execution_count": null,
      "outputs": []
    },
    {
      "cell_type": "markdown",
      "metadata": {
        "id": "wBPjoe4ZSLHo"
      },
      "source": [
        ""
      ]
    },
    {
      "cell_type": "code",
      "metadata": {
        "id": "y59LzBAaLtrh"
      },
      "source": [
        ""
      ],
      "execution_count": null,
      "outputs": []
    },
    {
      "cell_type": "code",
      "metadata": {
        "id": "nt4UeJqpLtvy"
      },
      "source": [
        ""
      ],
      "execution_count": null,
      "outputs": []
    },
    {
      "cell_type": "code",
      "metadata": {
        "id": "LpYhga80Lt4p"
      },
      "source": [
        ""
      ],
      "execution_count": null,
      "outputs": []
    },
    {
      "cell_type": "code",
      "metadata": {
        "id": "tBB-Ncwp3RWk"
      },
      "source": [
        "\n",
        "S = tf.range(0,10., 0.1, dtype=tf.float32)\n",
        "\n",
        "dt = tf.range(0,10., 0.1, dtype=tf.float32)\n",
        "dt = tf.expand_dims(dt, axis=-1)\n",
        "\n",
        "\n",
        "K = tf.range(0,10., 0.1, dtype=tf.float32)\n",
        "K = tf.expand_dims(K, axis=-1)\n",
        "K = tf.expand_dims(K, axis=-1)\n",
        "\n",
        "vol = tf.range(0,1., 0.1, dtype=tf.float32)\n",
        "vol = tf.expand_dims(vol, axis=-1)\n",
        "vol = tf.expand_dims(vol, axis=-1)\n",
        "vol = tf.expand_dims(vol, axis=-1)\n",
        "\n",
        "r = tf.range(0,0.1, 0.1, dtype=tf.float32)\n",
        "r = tf.expand_dims(r, axis=-1)\n",
        "r = tf.expand_dims(r, axis=-1)\n",
        "r = tf.expand_dims(r, axis=-1)\n",
        "r = tf.expand_dims(r, axis=-1)"
      ],
      "execution_count": 120,
      "outputs": []
    },
    {
      "cell_type": "code",
      "metadata": {
        "colab": {
          "base_uri": "https://localhost:8080/"
        },
        "id": "dR9XCAFB3atM",
        "outputId": "6a78f1fe-d37b-4f51-a5a3-bd6c5469df62"
      },
      "source": [
        "K.shape"
      ],
      "execution_count": 121,
      "outputs": [
        {
          "output_type": "execute_result",
          "data": {
            "text/plain": [
              "TensorShape([100, 1, 1])"
            ]
          },
          "metadata": {
            "tags": []
          },
          "execution_count": 121
        }
      ]
    },
    {
      "cell_type": "code",
      "metadata": {
        "colab": {
          "base_uri": "https://localhost:8080/"
        },
        "id": "rmlhcWIx3jbD",
        "outputId": "87358b71-94d8-474b-92af-d52b8402ddcc"
      },
      "source": [
        "\n",
        "npv = BS_Call(S, K, dt, vol, r)\n",
        "npv"
      ],
      "execution_count": 122,
      "outputs": [
        {
          "output_type": "execute_result",
          "data": {
            "text/plain": [
              "<tf.Tensor: shape=(1, 10, 100, 100, 100), dtype=float32, numpy=\n",
              "array([[[[[           nan, 1.00000001e-01, 2.00000003e-01, ...,\n",
              "           9.70000076e+00, 9.80000114e+00, 9.90000153e+00],\n",
              "          [           nan, 1.00000001e-01, 2.00000003e-01, ...,\n",
              "           9.70000076e+00, 9.80000114e+00, 9.90000153e+00],\n",
              "          [           nan, 1.00000001e-01, 2.00000003e-01, ...,\n",
              "           9.70000076e+00, 9.80000114e+00, 9.90000153e+00],\n",
              "          ...,\n",
              "          [           nan, 1.00000001e-01, 2.00000003e-01, ...,\n",
              "           9.70000076e+00, 9.80000114e+00, 9.90000153e+00],\n",
              "          [           nan, 1.00000001e-01, 2.00000003e-01, ...,\n",
              "           9.70000076e+00, 9.80000114e+00, 9.90000153e+00],\n",
              "          [           nan, 1.00000001e-01, 2.00000003e-01, ...,\n",
              "           9.70000076e+00, 9.80000114e+00, 9.90000153e+00]],\n",
              "\n",
              "         [[0.00000000e+00,            nan, 1.00000001e-01, ...,\n",
              "           9.60000038e+00, 9.70000076e+00, 9.80000114e+00],\n",
              "          [0.00000000e+00,            nan, 1.00000001e-01, ...,\n",
              "           9.60000038e+00, 9.70000076e+00, 9.80000114e+00],\n",
              "          [0.00000000e+00,            nan, 1.00000001e-01, ...,\n",
              "           9.60000038e+00, 9.70000076e+00, 9.80000114e+00],\n",
              "          ...,\n",
              "          [0.00000000e+00,            nan, 1.00000001e-01, ...,\n",
              "           9.60000038e+00, 9.70000076e+00, 9.80000114e+00],\n",
              "          [0.00000000e+00,            nan, 1.00000001e-01, ...,\n",
              "           9.60000038e+00, 9.70000076e+00, 9.80000114e+00],\n",
              "          [0.00000000e+00,            nan, 1.00000001e-01, ...,\n",
              "           9.60000038e+00, 9.70000076e+00, 9.80000114e+00]],\n",
              "\n",
              "         [[0.00000000e+00, 0.00000000e+00,            nan, ...,\n",
              "           9.50000095e+00, 9.60000134e+00, 9.70000172e+00],\n",
              "          [0.00000000e+00, 0.00000000e+00,            nan, ...,\n",
              "           9.50000095e+00, 9.60000134e+00, 9.70000172e+00],\n",
              "          [0.00000000e+00, 0.00000000e+00,            nan, ...,\n",
              "           9.50000095e+00, 9.60000134e+00, 9.70000172e+00],\n",
              "          ...,\n",
              "          [0.00000000e+00, 0.00000000e+00,            nan, ...,\n",
              "           9.50000095e+00, 9.60000134e+00, 9.70000172e+00],\n",
              "          [0.00000000e+00, 0.00000000e+00,            nan, ...,\n",
              "           9.50000095e+00, 9.60000134e+00, 9.70000172e+00],\n",
              "          [0.00000000e+00, 0.00000000e+00,            nan, ...,\n",
              "           9.50000095e+00, 9.60000134e+00, 9.70000172e+00]],\n",
              "\n",
              "         ...,\n",
              "\n",
              "         [[0.00000000e+00, 0.00000000e+00, 0.00000000e+00, ...,\n",
              "                      nan, 1.00000381e-01, 2.00000763e-01],\n",
              "          [0.00000000e+00, 0.00000000e+00, 0.00000000e+00, ...,\n",
              "                      nan, 1.00000381e-01, 2.00000763e-01],\n",
              "          [0.00000000e+00, 0.00000000e+00, 0.00000000e+00, ...,\n",
              "                      nan, 1.00000381e-01, 2.00000763e-01],\n",
              "          ...,\n",
              "          [0.00000000e+00, 0.00000000e+00, 0.00000000e+00, ...,\n",
              "                      nan, 1.00000381e-01, 2.00000763e-01],\n",
              "          [0.00000000e+00, 0.00000000e+00, 0.00000000e+00, ...,\n",
              "                      nan, 1.00000381e-01, 2.00000763e-01],\n",
              "          [0.00000000e+00, 0.00000000e+00, 0.00000000e+00, ...,\n",
              "                      nan, 1.00000381e-01, 2.00000763e-01]],\n",
              "\n",
              "         [[0.00000000e+00, 0.00000000e+00, 0.00000000e+00, ...,\n",
              "           0.00000000e+00,            nan, 1.00000381e-01],\n",
              "          [0.00000000e+00, 0.00000000e+00, 0.00000000e+00, ...,\n",
              "           0.00000000e+00,            nan, 1.00000381e-01],\n",
              "          [0.00000000e+00, 0.00000000e+00, 0.00000000e+00, ...,\n",
              "           0.00000000e+00,            nan, 1.00000381e-01],\n",
              "          ...,\n",
              "          [0.00000000e+00, 0.00000000e+00, 0.00000000e+00, ...,\n",
              "           0.00000000e+00,            nan, 1.00000381e-01],\n",
              "          [0.00000000e+00, 0.00000000e+00, 0.00000000e+00, ...,\n",
              "           0.00000000e+00,            nan, 1.00000381e-01],\n",
              "          [0.00000000e+00, 0.00000000e+00, 0.00000000e+00, ...,\n",
              "           0.00000000e+00,            nan, 1.00000381e-01]],\n",
              "\n",
              "         [[0.00000000e+00, 0.00000000e+00, 0.00000000e+00, ...,\n",
              "           0.00000000e+00, 0.00000000e+00,            nan],\n",
              "          [0.00000000e+00, 0.00000000e+00, 0.00000000e+00, ...,\n",
              "           0.00000000e+00, 0.00000000e+00,            nan],\n",
              "          [0.00000000e+00, 0.00000000e+00, 0.00000000e+00, ...,\n",
              "           0.00000000e+00, 0.00000000e+00,            nan],\n",
              "          ...,\n",
              "          [0.00000000e+00, 0.00000000e+00, 0.00000000e+00, ...,\n",
              "           0.00000000e+00, 0.00000000e+00,            nan],\n",
              "          [0.00000000e+00, 0.00000000e+00, 0.00000000e+00, ...,\n",
              "           0.00000000e+00, 0.00000000e+00,            nan],\n",
              "          [0.00000000e+00, 0.00000000e+00, 0.00000000e+00, ...,\n",
              "           0.00000000e+00, 0.00000000e+00,            nan]]],\n",
              "\n",
              "\n",
              "        [[[           nan, 1.00000001e-01, 2.00000003e-01, ...,\n",
              "           9.70000076e+00, 9.80000114e+00, 9.90000153e+00],\n",
              "          [           nan, 1.00000001e-01, 2.00000003e-01, ...,\n",
              "           9.70000076e+00, 9.80000114e+00, 9.90000153e+00],\n",
              "          [           nan, 1.00000001e-01, 2.00000003e-01, ...,\n",
              "           9.70000076e+00, 9.80000114e+00, 9.90000153e+00],\n",
              "          ...,\n",
              "          [           nan, 1.00000001e-01, 2.00000003e-01, ...,\n",
              "           9.70000076e+00, 9.80000114e+00, 9.90000153e+00],\n",
              "          [           nan, 1.00000001e-01, 2.00000003e-01, ...,\n",
              "           9.70000076e+00, 9.80000114e+00, 9.90000153e+00],\n",
              "          [           nan, 1.00000001e-01, 2.00000003e-01, ...,\n",
              "           9.70000076e+00, 9.80000114e+00, 9.90000153e+00]],\n",
              "\n",
              "         [[0.00000000e+00,            nan, 1.00000001e-01, ...,\n",
              "           9.60000038e+00, 9.70000076e+00, 9.80000114e+00],\n",
              "          [0.00000000e+00, 1.26151368e-03, 1.00000001e-01, ...,\n",
              "           9.60000038e+00, 9.70000076e+00, 9.80000114e+00],\n",
              "          [0.00000000e+00, 1.78397819e-03, 1.00000001e-01, ...,\n",
              "           9.60000038e+00, 9.70000076e+00, 9.80000114e+00],\n",
              "          ...,\n",
              "          [0.00000000e+00, 1.23749524e-02, 1.00198157e-01, ...,\n",
              "           9.60000038e+00, 9.70000076e+00, 9.80000114e+00],\n",
              "          [0.00000000e+00, 1.24380589e-02, 1.00205749e-01, ...,\n",
              "           9.60000038e+00, 9.70000076e+00, 9.80000114e+00],\n",
              "          [0.00000000e+00, 1.25008374e-02, 1.00213490e-01, ...,\n",
              "           9.60000038e+00, 9.70000076e+00, 9.80000114e+00]],\n",
              "\n",
              "         [[0.00000000e+00, 0.00000000e+00,            nan, ...,\n",
              "           9.50000095e+00, 9.60000134e+00, 9.70000172e+00],\n",
              "          [0.00000000e+00, 0.00000000e+00, 2.52302736e-03, ...,\n",
              "           9.50000095e+00, 9.60000134e+00, 9.70000172e+00],\n",
              "          [0.00000000e+00, 0.00000000e+00, 3.56795639e-03, ...,\n",
              "           9.50000095e+00, 9.60000134e+00, 9.70000172e+00],\n",
              "          ...,\n",
              "          [0.00000000e+00, 1.98146794e-04, 2.47499049e-02, ...,\n",
              "           9.50000095e+00, 9.60000134e+00, 9.70000172e+00],\n",
              "          [0.00000000e+00, 2.05743359e-04, 2.48761177e-02, ...,\n",
              "           9.50000095e+00, 9.60000134e+00, 9.70000172e+00],\n",
              "          [0.00000000e+00, 2.13488936e-04, 2.50016749e-02, ...,\n",
              "           9.50000095e+00, 9.60000134e+00, 9.70000172e+00]],\n",
              "\n",
              "         ...,\n",
              "\n",
              "         [[0.00000000e+00, 0.00000000e+00, 0.00000000e+00, ...,\n",
              "                      nan, 1.00000381e-01, 2.00000763e-01],\n",
              "          [0.00000000e+00, 0.00000000e+00, 0.00000000e+00, ...,\n",
              "           1.22366428e-01, 1.79410458e-01, 2.48515129e-01],\n",
              "          [0.00000000e+00, 0.00000000e+00, 0.00000000e+00, ...,\n",
              "           1.73045635e-01, 2.28491306e-01, 2.92722225e-01],\n",
              "          ...,\n",
              "          [0.00000000e+00, 0.00000000e+00, 0.00000000e+00, ...,\n",
              "           1.20036983e+00, 1.25720644e+00, 1.31532764e+00],\n",
              "          [0.00000000e+00, 0.00000000e+00, 0.00000000e+00, ...,\n",
              "           1.20649147e+00, 1.26335669e+00, 1.32149887e+00],\n",
              "          [0.00000000e+00, 0.00000000e+00, 0.00000000e+00, ...,\n",
              "           1.21258116e+00, 1.26947451e+00, 1.32763720e+00]],\n",
              "\n",
              "         [[0.00000000e+00, 0.00000000e+00, 0.00000000e+00, ...,\n",
              "           0.00000000e+00,            nan, 1.00000381e-01],\n",
              "          [0.00000000e+00, 0.00000000e+00, 0.00000000e+00, ...,\n",
              "           7.94100761e-02, 1.23628139e-01, 1.80607796e-01],\n",
              "          [0.00000000e+00, 0.00000000e+00, 0.00000000e+00, ...,\n",
              "           1.28490686e-01, 1.74829483e-01, 2.30229855e-01],\n",
              "          ...,\n",
              "          [0.00000000e+00, 0.00000000e+00, 0.00000000e+00, ...,\n",
              "           1.15720654e+00, 1.21274471e+00, 1.26957560e+00],\n",
              "          [0.00000000e+00, 0.00000000e+00, 0.00000000e+00, ...,\n",
              "           1.16335678e+00, 1.21893024e+00, 1.27578831e+00],\n",
              "          [0.00000000e+00, 0.00000000e+00, 0.00000000e+00, ...,\n",
              "           1.16947412e+00, 1.22508240e+00, 1.28196859e+00]],\n",
              "\n",
              "         [[0.00000000e+00, 0.00000000e+00, 0.00000000e+00, ...,\n",
              "           0.00000000e+00, 0.00000000e+00,            nan],\n",
              "          [0.00000000e+00, 0.00000000e+00, 0.00000000e+00, ...,\n",
              "           4.85141277e-02, 8.06076527e-02, 1.24889851e-01],\n",
              "          [0.00000000e+00, 0.00000000e+00, 0.00000000e+00, ...,\n",
              "           9.27209854e-02, 1.30229235e-01, 1.76613808e-01],\n",
              "          ...,\n",
              "          [0.00000000e+00, 0.00000000e+00, 0.00000000e+00, ...,\n",
              "           1.11532688e+00, 1.16957474e+00, 1.22512054e+00],\n",
              "          [0.00000000e+00, 0.00000000e+00, 0.00000000e+00, ...,\n",
              "           1.12149763e+00, 1.17578793e+00, 1.23136806e+00],\n",
              "          [0.00000000e+00, 0.00000000e+00, 0.00000000e+00, ...,\n",
              "           1.12763691e+00, 1.18196821e+00, 1.23758316e+00]]],\n",
              "\n",
              "\n",
              "        [[[           nan, 1.00000001e-01, 2.00000003e-01, ...,\n",
              "           9.70000076e+00, 9.80000114e+00, 9.90000153e+00],\n",
              "          [           nan, 1.00000001e-01, 2.00000003e-01, ...,\n",
              "           9.70000076e+00, 9.80000114e+00, 9.90000153e+00],\n",
              "          [           nan, 1.00000001e-01, 2.00000003e-01, ...,\n",
              "           9.70000076e+00, 9.80000114e+00, 9.90000153e+00],\n",
              "          ...,\n",
              "          [           nan, 1.00000001e-01, 2.00000003e-01, ...,\n",
              "           9.70000076e+00, 9.80000114e+00, 9.90000153e+00],\n",
              "          [           nan, 1.00000001e-01, 2.00000003e-01, ...,\n",
              "           9.70000076e+00, 9.80000114e+00, 9.90000153e+00],\n",
              "          [           nan, 1.00000001e-01, 2.00000003e-01, ...,\n",
              "           9.70000076e+00, 9.80000114e+00, 9.90000153e+00]],\n",
              "\n",
              "         [[0.00000000e+00,            nan, 1.00000001e-01, ...,\n",
              "           9.60000038e+00, 9.70000076e+00, 9.80000114e+00],\n",
              "          [0.00000000e+00, 2.52271071e-03, 1.00000001e-01, ...,\n",
              "           9.60000038e+00, 9.70000076e+00, 9.80000114e+00],\n",
              "          [0.00000000e+00, 3.56705859e-03, 1.00000001e-01, ...,\n",
              "           9.60000038e+00, 9.70000076e+00, 9.80000114e+00],\n",
              "          ...,\n",
              "          [0.00000000e+00, 2.44540162e-02, 1.05708949e-01, ...,\n",
              "           9.60000038e+00, 9.70000076e+00, 9.80000114e+00],\n",
              "          [0.00000000e+00, 2.45756954e-02, 1.05801895e-01, ...,\n",
              "           9.60000038e+00, 9.70000076e+00, 9.80000114e+00],\n",
              "          [0.00000000e+00, 2.46967040e-02, 1.05894901e-01, ...,\n",
              "           9.60000038e+00, 9.70000076e+00, 9.80000114e+00]],\n",
              "\n",
              "         [[0.00000000e+00, 0.00000000e+00,            nan, ...,\n",
              "           9.50000095e+00, 9.60000134e+00, 9.70000172e+00],\n",
              "          [0.00000000e+00, 0.00000000e+00, 5.04542142e-03, ...,\n",
              "           9.50000095e+00, 9.60000134e+00, 9.70000172e+00],\n",
              "          [0.00000000e+00, 0.00000000e+00, 7.13411719e-03, ...,\n",
              "           9.50000095e+00, 9.60000134e+00, 9.70000172e+00],\n",
              "          ...,\n",
              "          [0.00000000e+00, 5.70894592e-03, 4.89080325e-02, ...,\n",
              "           9.50000095e+00, 9.60000134e+00, 9.70000172e+00],\n",
              "          [0.00000000e+00, 5.80188632e-03, 4.91513908e-02, ...,\n",
              "           9.50000095e+00, 9.60000134e+00, 9.70000172e+00],\n",
              "          [0.00000000e+00, 5.89489378e-03, 4.93934080e-02, ...,\n",
              "           9.50000095e+00, 9.60000134e+00, 9.70000172e+00]],\n",
              "\n",
              "         ...,\n",
              "\n",
              "         [[0.00000000e+00, 0.00000000e+00, 0.00000000e+00, ...,\n",
              "                      nan, 1.00000381e-01, 2.00000763e-01],\n",
              "          [0.00000000e+00, 0.00000000e+00, 0.00000000e+00, ...,\n",
              "           2.44702816e-01, 2.99190998e-01, 3.59982967e-01],\n",
              "          [0.00000000e+00, 0.00000000e+00, 0.00000000e+00, ...,\n",
              "           3.46004963e-01, 4.00071144e-01, 4.58626747e-01],\n",
              "          ...,\n",
              "          [0.00000000e+00, 0.00000000e+00, 0.00000000e+00, ...,\n",
              "           2.37203956e+00, 2.43457961e+00, 2.49773908e+00],\n",
              "          [0.00000000e+00, 0.00000000e+00, 0.00000000e+00, ...,\n",
              "           2.38384247e+00, 2.44644165e+00, 2.50965691e+00],\n",
              "          [0.00000000e+00, 0.00000000e+00, 0.00000000e+00, ...,\n",
              "           2.39558077e+00, 2.45823836e+00, 2.52150869e+00]],\n",
              "\n",
              "         [[0.00000000e+00, 0.00000000e+00, 0.00000000e+00, ...,\n",
              "           0.00000000e+00,            nan, 1.00000381e-01],\n",
              "          [0.00000000e+00, 0.00000000e+00, 0.00000000e+00, ...,\n",
              "           1.99190140e-01, 2.47225761e-01, 3.01681042e-01],\n",
              "          [0.00000000e+00, 0.00000000e+00, 0.00000000e+00, ...,\n",
              "           3.00070763e-01, 3.49572182e-01, 4.03614998e-01],\n",
              "          ...,\n",
              "          [0.00000000e+00, 0.00000000e+00, 0.00000000e+00, ...,\n",
              "           2.33457994e+00, 2.39649367e+00, 2.45903063e+00],\n",
              "          [0.00000000e+00, 0.00000000e+00, 0.00000000e+00, ...,\n",
              "           2.34644198e+00, 2.40841842e+00, 2.47101450e+00],\n",
              "          [0.00000000e+00, 0.00000000e+00, 0.00000000e+00, ...,\n",
              "           2.35823798e+00, 2.42027736e+00, 2.48293233e+00]],\n",
              "\n",
              "         [[0.00000000e+00, 0.00000000e+00, 0.00000000e+00, ...,\n",
              "           0.00000000e+00, 0.00000000e+00,            nan],\n",
              "          [0.00000000e+00, 0.00000000e+00, 0.00000000e+00, ...,\n",
              "           1.59981728e-01, 2.01680660e-01, 2.49748230e-01],\n",
              "          [0.00000000e+00, 0.00000000e+00, 0.00000000e+00, ...,\n",
              "           2.58625984e-01, 3.03614616e-01, 3.53138924e-01],\n",
              "          ...,\n",
              "          [0.00000000e+00, 0.00000000e+00, 0.00000000e+00, ...,\n",
              "           2.29773903e+00, 2.35903025e+00, 2.42094779e+00],\n",
              "          [0.00000000e+00, 0.00000000e+00, 0.00000000e+00, ...,\n",
              "           2.30965614e+00, 2.37101460e+00, 2.43299437e+00],\n",
              "          [0.00000000e+00, 0.00000000e+00, 0.00000000e+00, ...,\n",
              "           2.32150745e+00, 2.38293147e+00, 2.44497442e+00]]],\n",
              "\n",
              "\n",
              "        ...,\n",
              "\n",
              "\n",
              "        [[[           nan, 1.00000001e-01, 2.00000003e-01, ...,\n",
              "           9.70000076e+00, 9.80000114e+00, 9.90000153e+00],\n",
              "          [           nan, 1.00000001e-01, 2.00000003e-01, ...,\n",
              "           9.70000076e+00, 9.80000114e+00, 9.90000153e+00],\n",
              "          [           nan, 1.00000001e-01, 2.00000003e-01, ...,\n",
              "           9.70000076e+00, 9.80000114e+00, 9.90000153e+00],\n",
              "          ...,\n",
              "          [           nan, 1.00000001e-01, 2.00000003e-01, ...,\n",
              "           9.70000076e+00, 9.80000114e+00, 9.90000153e+00],\n",
              "          [           nan, 1.00000001e-01, 2.00000003e-01, ...,\n",
              "           9.70000076e+00, 9.80000114e+00, 9.90000153e+00],\n",
              "          [           nan, 1.00000001e-01, 2.00000003e-01, ...,\n",
              "           9.70000076e+00, 9.80000114e+00, 9.90000153e+00]],\n",
              "\n",
              "         [[0.00000000e+00,            nan, 1.00000001e-01, ...,\n",
              "           9.60000038e+00, 9.70000076e+00, 9.80000114e+00],\n",
              "          [0.00000000e+00, 8.81296396e-03, 1.00007422e-01, ...,\n",
              "           9.60000038e+00, 9.70000076e+00, 9.80000114e+00],\n",
              "          [0.00000000e+00, 1.24380589e-02, 1.00205749e-01, ...,\n",
              "           9.60000038e+00, 9.70000076e+00, 9.80000114e+00],\n",
              "          ...,\n",
              "          [0.00000000e+00, 7.24317282e-02, 1.62085250e-01, ...,\n",
              "           9.60872841e+00, 9.70865822e+00, 9.80858898e+00],\n",
              "          [0.00000000e+00, 7.26778358e-02, 1.62416250e-01, ...,\n",
              "           9.60900021e+00, 9.70892811e+00, 9.80885696e+00],\n",
              "          [0.00000000e+00, 7.29211941e-02, 1.62743673e-01, ...,\n",
              "           9.60927391e+00, 9.70920086e+00, 9.80912876e+00]],\n",
              "\n",
              "         [[0.00000000e+00, 0.00000000e+00,            nan, ...,\n",
              "           9.50000095e+00, 9.60000134e+00, 9.70000172e+00],\n",
              "          [0.00000000e+00, 7.42375414e-06, 1.76259279e-02, ...,\n",
              "           9.50000095e+00, 9.60000134e+00, 9.70000172e+00],\n",
              "          [0.00000000e+00, 2.05743359e-04, 2.48761177e-02, ...,\n",
              "           9.50000095e+00, 9.60000134e+00, 9.70000172e+00],\n",
              "          ...,\n",
              "          [0.00000000e+00, 6.20852485e-02, 1.44863456e-01, ...,\n",
              "           9.52912045e+00, 9.62891769e+00, 9.72871780e+00],\n",
              "          [0.00000000e+00, 6.24162331e-02, 1.45355672e-01, ...,\n",
              "           9.52982998e+00, 9.62962437e+00, 9.72942162e+00],\n",
              "          [0.00000000e+00, 6.27436861e-02, 1.45842388e-01, ...,\n",
              "           9.53054047e+00, 9.63033390e+00, 9.73012924e+00]],\n",
              "\n",
              "         ...,\n",
              "\n",
              "         [[0.00000000e+00, 0.00000000e+00, 0.00000000e+00, ...,\n",
              "                      nan, 1.00000381e-01, 2.00000763e-01],\n",
              "          [0.00000000e+00, 0.00000000e+00, 0.00000000e+00, ...,\n",
              "           8.54857445e-01, 9.10183430e-01, 9.67324257e-01],\n",
              "          [0.00000000e+00, 0.00000000e+00, 0.00000000e+00, ...,\n",
              "           1.20649147e+00, 1.26335669e+00, 1.32149887e+00],\n",
              "          ...,\n",
              "          [0.00000000e+00, 8.72779265e-03, 2.91202441e-02, ...,\n",
              "           7.02587843e+00, 7.11214638e+00, 7.19851589e+00],\n",
              "          [0.00000000e+00, 8.99905898e-03, 2.98284199e-02, ...,\n",
              "           7.04975033e+00, 7.13613987e+00, 7.22263241e+00],\n",
              "          [0.00000000e+00, 9.27319005e-03, 3.05400901e-02, ...,\n",
              "           7.07335663e+00, 7.15986729e+00, 7.24647999e+00]],\n",
              "\n",
              "         [[0.00000000e+00, 0.00000000e+00, 0.00000000e+00, ...,\n",
              "           0.00000000e+00,            nan, 1.00000381e-01],\n",
              "          [0.00000000e+00, 0.00000000e+00, 0.00000000e+00, ...,\n",
              "           8.10182571e-01, 8.63670349e-01, 9.18986797e-01],\n",
              "          [0.00000000e+00, 0.00000000e+00, 0.00000000e+00, ...,\n",
              "           1.16335678e+00, 1.21893024e+00, 1.27578831e+00],\n",
              "          ...,\n",
              "          [0.00000000e+00, 8.65695719e-03, 2.89167613e-02, ...,\n",
              "           7.01214504e+00, 7.09831047e+00, 7.18457699e+00],\n",
              "          [0.00000000e+00, 8.92683864e-03, 2.96229385e-02, ...,\n",
              "           7.03613997e+00, 7.12242842e+00, 7.20881844e+00],\n",
              "          [0.00000000e+00, 9.19991918e-03, 3.03324517e-02, ...,\n",
              "           7.05986738e+00, 7.14627790e+00, 7.23278856e+00]],\n",
              "\n",
              "         [[0.00000000e+00, 0.00000000e+00, 0.00000000e+00, ...,\n",
              "           0.00000000e+00, 0.00000000e+00,            nan],\n",
              "          [0.00000000e+00, 0.00000000e+00, 0.00000000e+00, ...,\n",
              "           7.67323971e-01, 8.18986416e-01, 8.72483253e-01],\n",
              "          [0.00000000e+00, 0.00000000e+00, 0.00000000e+00, ...,\n",
              "           1.12149811e+00, 1.17578793e+00, 1.23136806e+00],\n",
              "          ...,\n",
              "          [0.00000000e+00, 8.58716294e-03, 2.87164971e-02, ...,\n",
              "           6.99851561e+00, 7.08457661e+00, 7.17074203e+00],\n",
              "          [0.00000000e+00, 8.85568839e-03, 2.94201188e-02, ...,\n",
              "           7.02263212e+00, 7.10881805e+00, 7.19510651e+00],\n",
              "          [0.00000000e+00, 9.12746415e-03, 3.01274844e-02, ...,\n",
              "           7.04647875e+00, 7.13278866e+00, 7.21919966e+00]]],\n",
              "\n",
              "\n",
              "        [[[           nan, 1.00000001e-01, 2.00000003e-01, ...,\n",
              "           9.70000076e+00, 9.80000114e+00, 9.90000153e+00],\n",
              "          [           nan, 1.00000001e-01, 2.00000003e-01, ...,\n",
              "           9.70000076e+00, 9.80000114e+00, 9.90000153e+00],\n",
              "          [           nan, 1.00000001e-01, 2.00000003e-01, ...,\n",
              "           9.70000076e+00, 9.80000114e+00, 9.90000153e+00],\n",
              "          ...,\n",
              "          [           nan, 1.00000001e-01, 2.00000003e-01, ...,\n",
              "           9.70000076e+00, 9.80000114e+00, 9.90000153e+00],\n",
              "          [           nan, 1.00000001e-01, 2.00000003e-01, ...,\n",
              "           9.70000076e+00, 9.80000114e+00, 9.90000153e+00],\n",
              "          [           nan, 1.00000001e-01, 2.00000003e-01, ...,\n",
              "           9.70000076e+00, 9.80000114e+00, 9.90000153e+00]],\n",
              "\n",
              "         [[0.00000000e+00,            nan, 1.00000001e-01, ...,\n",
              "           9.60000038e+00, 9.70000076e+00, 9.80000114e+00],\n",
              "          [0.00000000e+00, 1.00656785e-02, 1.00033037e-01, ...,\n",
              "           9.60000038e+00, 9.70000076e+00, 9.80000114e+00],\n",
              "          [0.00000000e+00, 1.41972303e-02, 1.00500949e-01, ...,\n",
              "           9.60000038e+00, 9.70000076e+00, 9.80000114e+00],\n",
              "          ...,\n",
              "          [0.00000000e+00, 7.87159652e-02, 1.70586586e-01, ...,\n",
              "           9.61777496e+00, 9.71767139e+00, 9.81757164e+00],\n",
              "          [0.00000000e+00, 7.89502338e-02, 1.70905367e-01, ...,\n",
              "           9.61820602e+00, 9.71810341e+00, 9.81800079e+00],\n",
              "          [0.00000000e+00, 7.91814551e-02, 1.71220154e-01, ...,\n",
              "           9.61863804e+00, 9.71853542e+00, 9.81843281e+00]],\n",
              "\n",
              "         [[0.00000000e+00, 0.00000000e+00,            nan, ...,\n",
              "           9.50000095e+00, 9.60000134e+00, 9.70000172e+00],\n",
              "          [0.00000000e+00, 3.30388721e-05, 2.01313570e-02, ...,\n",
              "           9.50000095e+00, 9.60000134e+00, 9.70000172e+00],\n",
              "          [0.00000000e+00, 5.00944443e-04, 2.83944607e-02, ...,\n",
              "           9.50000095e+00, 9.60000134e+00, 9.70000172e+00],\n",
              "          ...,\n",
              "          [0.00000000e+00, 7.05865771e-02, 1.57431930e-01, ...,\n",
              "           9.55099487e+00, 9.65074348e+00, 9.75049591e+00],\n",
              "          [0.00000000e+00, 7.09053725e-02, 1.57900468e-01, ...,\n",
              "           9.55196953e+00, 9.65171814e+00, 9.75146961e+00],\n",
              "          [0.00000000e+00, 7.12201446e-02, 1.58362910e-01, ...,\n",
              "           9.55294418e+00, 9.65269184e+00, 9.75244236e+00]],\n",
              "\n",
              "         ...,\n",
              "\n",
              "         [[0.00000000e+00, 0.00000000e+00, 0.00000000e+00, ...,\n",
              "                      nan, 1.00000381e-01, 2.00000763e-01],\n",
              "          [0.00000000e+00, 0.00000000e+00, 0.00000000e+00, ...,\n",
              "           9.76370811e-01, 1.03220654e+00, 1.08962822e+00],\n",
              "          [0.00000000e+00, 0.00000000e+00, 0.00000000e+00, ...,\n",
              "           1.37713146e+00, 1.43479300e+00, 1.49356794e+00],\n",
              "          ...,\n",
              "          [0.00000000e+00, 1.77733563e-02, 5.09933606e-02, ...,\n",
              "           7.63544941e+00, 7.72484493e+00, 7.81431675e+00],\n",
              "          [0.00000000e+00, 1.82046555e-02, 5.19690439e-02, ...,\n",
              "           7.65817356e+00, 7.74768591e+00, 7.83727169e+00],\n",
              "          [0.00000000e+00, 1.86377168e-02, 5.29436991e-02, ...,\n",
              "           7.68060160e+00, 7.77022934e+00, 7.85993099e+00]],\n",
              "\n",
              "         [[0.00000000e+00, 0.00000000e+00, 0.00000000e+00, ...,\n",
              "           0.00000000e+00,            nan, 1.00000381e-01],\n",
              "          [0.00000000e+00, 0.00000000e+00, 0.00000000e+00, ...,\n",
              "           9.32206154e-01, 9.86436367e-01, 1.04226398e+00],\n",
              "          [0.00000000e+00, 0.00000000e+00, 0.00000000e+00, ...,\n",
              "           1.33479261e+00, 1.39132881e+00, 1.44898510e+00],\n",
              "          ...,\n",
              "          [0.00000000e+00, 1.76711362e-02, 5.07423580e-02, ...,\n",
              "           7.62484455e+00, 7.71416569e+00, 7.80356121e+00],\n",
              "          [0.00000000e+00, 1.81014165e-02, 5.17167337e-02, ...,\n",
              "           7.64768505e+00, 7.73712349e+00, 7.82663536e+00],\n",
              "          [0.00000000e+00, 1.85335204e-02, 5.26905172e-02, ...,\n",
              "           7.67022896e+00, 7.75978327e+00, 7.84941101e+00]],\n",
              "\n",
              "         [[0.00000000e+00, 0.00000000e+00, 0.00000000e+00, ...,\n",
              "           0.00000000e+00, 0.00000000e+00,            nan],\n",
              "          [0.00000000e+00, 0.00000000e+00, 0.00000000e+00, ...,\n",
              "           8.89627457e-01, 9.42263126e-01, 9.96502399e-01],\n",
              "          [0.00000000e+00, 0.00000000e+00, 0.00000000e+00, ...,\n",
              "           1.29356766e+00, 1.34898424e+00, 1.40552616e+00],\n",
              "          ...,\n",
              "          [0.00000000e+00, 1.75705217e-02, 5.04942648e-02, ...,\n",
              "           7.61431551e+00, 7.70356035e+00, 7.79288197e+00],\n",
              "          [0.00000000e+00, 1.79997869e-02, 5.14676124e-02, ...,\n",
              "           7.63727188e+00, 7.72663546e+00, 7.81607437e+00],\n",
              "          [0.00000000e+00, 1.84306614e-02, 5.24401926e-02, ...,\n",
              "           7.65992928e+00, 7.74941063e+00, 7.83896494e+00]]],\n",
              "\n",
              "\n",
              "        [[[           nan, 1.00000001e-01, 2.00000003e-01, ...,\n",
              "           9.70000076e+00, 9.80000114e+00, 9.90000153e+00],\n",
              "          [           nan, 1.00000001e-01, 2.00000003e-01, ...,\n",
              "           9.70000076e+00, 9.80000114e+00, 9.90000153e+00],\n",
              "          [           nan, 1.00000001e-01, 2.00000003e-01, ...,\n",
              "           9.70000076e+00, 9.80000114e+00, 9.90000153e+00],\n",
              "          ...,\n",
              "          [           nan, 1.00000001e-01, 2.00000003e-01, ...,\n",
              "           9.70000076e+00, 9.80000114e+00, 9.90000153e+00],\n",
              "          [           nan, 1.00000001e-01, 2.00000003e-01, ...,\n",
              "           9.70000076e+00, 9.80000114e+00, 9.90000153e+00],\n",
              "          [           nan, 1.00000001e-01, 2.00000003e-01, ...,\n",
              "           9.70000076e+00, 9.80000114e+00, 9.90000153e+00]],\n",
              "\n",
              "         [[0.00000000e+00,            nan, 1.00000001e-01, ...,\n",
              "           9.60000038e+00, 9.70000076e+00, 9.80000114e+00],\n",
              "          [0.00000000e+00, 1.13158971e-02, 1.00097515e-01, ...,\n",
              "           9.60000038e+00, 9.70000076e+00, 9.80000114e+00],\n",
              "          [0.00000000e+00, 1.59493871e-02, 1.00971170e-01, ...,\n",
              "           9.60000038e+00, 9.70000076e+00, 9.80000114e+00],\n",
              "          ...,\n",
              "          [0.00000000e+00, 8.38940591e-02, 1.77660927e-01, ...,\n",
              "           9.62916279e+00, 9.72904396e+00, 9.82892513e+00],\n",
              "          [0.00000000e+00, 8.41082931e-02, 1.77954838e-01, ...,\n",
              "           9.62972450e+00, 9.72960377e+00, 9.82948494e+00],\n",
              "          [0.00000000e+00, 8.43192935e-02, 1.78244382e-01, ...,\n",
              "           9.63028431e+00, 9.73016262e+00, 9.83004379e+00]],\n",
              "\n",
              "         [[0.00000000e+00, 0.00000000e+00,            nan, ...,\n",
              "           9.50000095e+00, 9.60000134e+00, 9.70000172e+00],\n",
              "          [0.00000000e+00, 9.75251896e-05, 2.26317942e-02, ...,\n",
              "           9.50000095e+00, 9.60000134e+00, 9.70000172e+00],\n",
              "          [0.00000000e+00, 9.71168280e-04, 3.18987742e-02, ...,\n",
              "           9.50000095e+00, 9.60000134e+00, 9.70000172e+00],\n",
              "          ...,\n",
              "          [0.00000000e+00, 7.76609331e-02, 1.67788118e-01, ...,\n",
              "           9.57547855e+00, 9.67521381e+00, 9.77495193e+00],\n",
              "          [0.00000000e+00, 7.79548362e-02, 1.68216586e-01, ...,\n",
              "           9.57662773e+00, 9.67636395e+00, 9.77610207e+00],\n",
              "          [0.00000000e+00, 7.82443881e-02, 1.68638587e-01, ...,\n",
              "           9.57777214e+00, 9.67750645e+00, 9.77724552e+00]],\n",
              "\n",
              "         ...,\n",
              "\n",
              "         [[0.00000000e+00, 0.00000000e+00, 0.00000000e+00, ...,\n",
              "                      nan, 1.00000381e-01, 2.00000763e-01],\n",
              "          [0.00000000e+00, 0.00000000e+00, 0.00000000e+00, ...,\n",
              "           1.09764194e+00, 1.15401173e+00, 1.21178913e+00],\n",
              "          [0.00000000e+00, 0.00000000e+00, 0.00000000e+00, ...,\n",
              "           1.54709101e+00, 1.60556412e+00, 1.66502237e+00],\n",
              "          ...,\n",
              "          [0.00000000e+00, 2.91624926e-02, 7.54781440e-02, ...,\n",
              "           8.13772392e+00, 8.22969818e+00, 8.32172775e+00],\n",
              "          [0.00000000e+00, 2.97232829e-02, 7.66277462e-02, ...,\n",
              "           8.15850544e+00, 8.25058556e+00, 8.34272099e+00],\n",
              "          [0.00000000e+00, 3.02831661e-02, 7.77708367e-02, ...,\n",
              "           8.17897224e+00, 8.27115917e+00, 8.36339760e+00]],\n",
              "\n",
              "         [[0.00000000e+00, 0.00000000e+00, 0.00000000e+00, ...,\n",
              "           0.00000000e+00,            nan, 1.00000381e-01],\n",
              "          [0.00000000e+00, 0.00000000e+00, 0.00000000e+00, ...,\n",
              "           1.05401134e+00, 1.10895729e+00, 1.16531992e+00],\n",
              "          [0.00000000e+00, 0.00000000e+00, 0.00000000e+00, ...,\n",
              "           1.50556326e+00, 1.56304026e+00, 1.62150860e+00],\n",
              "          ...,\n",
              "          [0.00000000e+00, 2.90423855e-02, 7.52128810e-02, ...,\n",
              "           8.12969780e+00, 8.22161865e+00, 8.31359291e+00],\n",
              "          [0.00000000e+00, 2.96026506e-02, 7.63627142e-02, ...,\n",
              "           8.15058613e+00, 8.24261379e+00, 8.33469486e+00],\n",
              "          [0.00000000e+00, 3.01620886e-02, 7.75061175e-02, ...,\n",
              "           8.17115879e+00, 8.26329136e+00, 8.35547733e+00]],\n",
              "\n",
              "         [[0.00000000e+00, 0.00000000e+00, 0.00000000e+00, ...,\n",
              "           0.00000000e+00, 0.00000000e+00,            nan],\n",
              "          [0.00000000e+00, 0.00000000e+00, 0.00000000e+00, ...,\n",
              "           1.01178789e+00, 1.06532001e+00, 1.12027359e+00],\n",
              "          [0.00000000e+00, 0.00000000e+00, 0.00000000e+00, ...,\n",
              "           1.46502209e+00, 1.52150822e+00, 1.57898951e+00],\n",
              "          ...,\n",
              "          [0.00000000e+00, 2.89235152e-02, 7.49509484e-02, ...,\n",
              "           8.12172699e+00, 8.21359253e+00, 8.30551243e+00],\n",
              "          [0.00000000e+00, 2.94835344e-02, 7.61006474e-02, ...,\n",
              "           8.14272022e+00, 8.23469448e+00, 8.32672215e+00],\n",
              "          [0.00000000e+00, 3.00425030e-02, 7.72440135e-02, ...,\n",
              "           8.16339684e+00, 8.25547791e+00, 8.34761047e+00]]]]],\n",
              "      dtype=float32)>"
            ]
          },
          "metadata": {
            "tags": []
          },
          "execution_count": 122
        }
      ]
    },
    {
      "cell_type": "code",
      "metadata": {
        "colab": {
          "base_uri": "https://localhost:8080/"
        },
        "id": "9zQmanzW6WSg",
        "outputId": "1201fcde-7eb1-4f7f-db11-44c61f56aec3"
      },
      "source": [
        "%%timeit -n 1 -r 1\n",
        "npv = BS_Call(S, K, dt, vol, r)"
      ],
      "execution_count": 123,
      "outputs": [
        {
          "output_type": "stream",
          "text": [
            "1 loop, best of 1: 1.76 ms per loop\n"
          ],
          "name": "stdout"
        }
      ]
    },
    {
      "cell_type": "code",
      "metadata": {
        "colab": {
          "base_uri": "https://localhost:8080/"
        },
        "id": "rXCGN_7c8W38",
        "outputId": "9cdb4bdd-490d-4efa-9640-531deaaf7f28"
      },
      "source": [
        "%%timeit -n 1 -r 1\n",
        "npv = BS_Call(S, K, dt, vol, r)\n"
      ],
      "execution_count": 124,
      "outputs": [
        {
          "output_type": "stream",
          "text": [
            "1 loop, best of 1: 1.99 ms per loop\n"
          ],
          "name": "stdout"
        }
      ]
    },
    {
      "cell_type": "code",
      "metadata": {
        "colab": {
          "base_uri": "https://localhost:8080/"
        },
        "id": "V8Tl8DJIjbpS",
        "outputId": "a7d9fbf0-6528-4584-8dd3-28f7995add73"
      },
      "source": [
        "%%timeit -n 1 -r 1\n",
        "with tf.device('/device:cpu:0'):\n",
        "  npv = BS_Call(S, K, dt, vol, r)"
      ],
      "execution_count": 143,
      "outputs": [
        {
          "output_type": "stream",
          "text": [
            "1 loop, best of 1: 81.6 ms per loop\n"
          ],
          "name": "stdout"
        }
      ]
    },
    {
      "cell_type": "code",
      "metadata": {
        "colab": {
          "base_uri": "https://localhost:8080/"
        },
        "id": "ALk8XkUyiaG0",
        "outputId": "a56fb0e8-11c6-4764-a43c-3b269db33a3f"
      },
      "source": [
        "%timeit\n",
        "npv = BS_Call(S, K, dt, vol, r)\n",
        "print((time.time() -st)*1000, \"ms\")"
      ],
      "execution_count": 126,
      "outputs": [
        {
          "output_type": "stream",
          "text": [
            "660309.6826076508 ms\n"
          ],
          "name": "stdout"
        }
      ]
    },
    {
      "cell_type": "code",
      "metadata": {
        "id": "vv4HY5BXiBQt"
      },
      "source": [
        "st = time.time()\n",
        "npv = BS_Call(S, K, dt, vol, r)\n",
        "print((time.time() -st)*1000, \"ms\")"
      ],
      "execution_count": null,
      "outputs": []
    }
  ]
}